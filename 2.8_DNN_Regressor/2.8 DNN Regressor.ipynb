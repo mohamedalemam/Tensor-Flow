{
 "cells": [
  {
   "cell_type": "code",
   "execution_count": 1,
   "metadata": {},
   "outputs": [],
   "source": [
    "import itertools\n",
    "import pandas as pd\n",
    "import tensorflow as tf"
   ]
  },
  {
   "cell_type": "code",
   "execution_count": 2,
   "metadata": {},
   "outputs": [],
   "source": [
    "COLUMNS = [\"crim\", \"zn\", \"indus\", \"nox\", \"rm\", \"age\",\"dis\", \"tax\", \"ptratio\", \"medv\"]\n",
    "FEATURES = [\"crim\", \"zn\", \"indus\", \"nox\", \"rm\",\"age\", \"dis\", \"tax\", \"ptratio\"]\n",
    "LABEL = \"medv\""
   ]
  },
  {
   "cell_type": "code",
   "execution_count": 3,
   "metadata": {},
   "outputs": [],
   "source": [
    "def get_input_fn(data_set, num_epochs=None, shuffle=True):\n",
    "  return tf.estimator.inputs.pandas_input_fn(\n",
    "      x=pd.DataFrame({k: data_set[k].values for k in FEATURES}),\n",
    "      y=pd.Series(data_set[LABEL].values),\n",
    "      num_epochs=num_epochs,\n",
    "      shuffle=shuffle)"
   ]
  },
  {
   "cell_type": "code",
   "execution_count": 4,
   "metadata": {},
   "outputs": [
    {
     "data": {
      "text/html": [
       "<div>\n",
       "<style scoped>\n",
       "    .dataframe tbody tr th:only-of-type {\n",
       "        vertical-align: middle;\n",
       "    }\n",
       "\n",
       "    .dataframe tbody tr th {\n",
       "        vertical-align: top;\n",
       "    }\n",
       "\n",
       "    .dataframe thead th {\n",
       "        text-align: right;\n",
       "    }\n",
       "</style>\n",
       "<table border=\"1\" class=\"dataframe\">\n",
       "  <thead>\n",
       "    <tr style=\"text-align: right;\">\n",
       "      <th></th>\n",
       "      <th>crim</th>\n",
       "      <th>zn</th>\n",
       "      <th>indus</th>\n",
       "      <th>nox</th>\n",
       "      <th>rm</th>\n",
       "      <th>age</th>\n",
       "      <th>dis</th>\n",
       "      <th>tax</th>\n",
       "      <th>ptratio</th>\n",
       "      <th>medv</th>\n",
       "    </tr>\n",
       "  </thead>\n",
       "  <tbody>\n",
       "    <tr>\n",
       "      <th>0</th>\n",
       "      <td>2.30040</td>\n",
       "      <td>0.0</td>\n",
       "      <td>19.58</td>\n",
       "      <td>0.605</td>\n",
       "      <td>6.319</td>\n",
       "      <td>96.1</td>\n",
       "      <td>2.1000</td>\n",
       "      <td>403</td>\n",
       "      <td>14.7</td>\n",
       "      <td>23.8</td>\n",
       "    </tr>\n",
       "    <tr>\n",
       "      <th>1</th>\n",
       "      <td>13.35980</td>\n",
       "      <td>0.0</td>\n",
       "      <td>18.10</td>\n",
       "      <td>0.693</td>\n",
       "      <td>5.887</td>\n",
       "      <td>94.7</td>\n",
       "      <td>1.7821</td>\n",
       "      <td>666</td>\n",
       "      <td>20.2</td>\n",
       "      <td>12.7</td>\n",
       "    </tr>\n",
       "    <tr>\n",
       "      <th>2</th>\n",
       "      <td>0.12744</td>\n",
       "      <td>0.0</td>\n",
       "      <td>6.91</td>\n",
       "      <td>0.448</td>\n",
       "      <td>6.770</td>\n",
       "      <td>2.9</td>\n",
       "      <td>5.7209</td>\n",
       "      <td>233</td>\n",
       "      <td>17.9</td>\n",
       "      <td>26.6</td>\n",
       "    </tr>\n",
       "    <tr>\n",
       "      <th>3</th>\n",
       "      <td>0.15876</td>\n",
       "      <td>0.0</td>\n",
       "      <td>10.81</td>\n",
       "      <td>0.413</td>\n",
       "      <td>5.961</td>\n",
       "      <td>17.5</td>\n",
       "      <td>5.2873</td>\n",
       "      <td>305</td>\n",
       "      <td>19.2</td>\n",
       "      <td>21.7</td>\n",
       "    </tr>\n",
       "    <tr>\n",
       "      <th>4</th>\n",
       "      <td>0.03768</td>\n",
       "      <td>80.0</td>\n",
       "      <td>1.52</td>\n",
       "      <td>0.404</td>\n",
       "      <td>7.274</td>\n",
       "      <td>38.3</td>\n",
       "      <td>7.3090</td>\n",
       "      <td>329</td>\n",
       "      <td>12.6</td>\n",
       "      <td>34.6</td>\n",
       "    </tr>\n",
       "  </tbody>\n",
       "</table>\n",
       "</div>"
      ],
      "text/plain": [
       "       crim    zn  indus    nox     rm   age     dis  tax  ptratio  medv\n",
       "0   2.30040   0.0  19.58  0.605  6.319  96.1  2.1000  403     14.7  23.8\n",
       "1  13.35980   0.0  18.10  0.693  5.887  94.7  1.7821  666     20.2  12.7\n",
       "2   0.12744   0.0   6.91  0.448  6.770   2.9  5.7209  233     17.9  26.6\n",
       "3   0.15876   0.0  10.81  0.413  5.961  17.5  5.2873  305     19.2  21.7\n",
       "4   0.03768  80.0   1.52  0.404  7.274  38.3  7.3090  329     12.6  34.6"
      ]
     },
     "execution_count": 4,
     "metadata": {},
     "output_type": "execute_result"
    }
   ],
   "source": [
    "training_set = pd.read_csv(\"boston_train.csv\", skipinitialspace=True, skiprows=1, names=COLUMNS)\n",
    "test_set = pd.read_csv(\"boston_test.csv\", skipinitialspace=True, skiprows=1, names=COLUMNS)\n",
    "prediction_set = pd.read_csv(\"boston_predict.csv\", skipinitialspace=True, skiprows=1, names=COLUMNS)\n",
    "training_set.head()"
   ]
  },
  {
   "cell_type": "code",
   "execution_count": 5,
   "metadata": {},
   "outputs": [
    {
     "name": "stdout",
     "output_type": "stream",
     "text": [
      "INFO:tensorflow:Using default config.\n",
      "WARNING:tensorflow:Using temporary folder as model directory: C:\\Users\\foryo\\AppData\\Local\\Temp\\tmpja0imn9f\n",
      "INFO:tensorflow:Using config: {'_model_dir': 'C:\\\\Users\\\\foryo\\\\AppData\\\\Local\\\\Temp\\\\tmpja0imn9f', '_tf_random_seed': None, '_save_summary_steps': 100, '_save_checkpoints_steps': None, '_save_checkpoints_secs': 600, '_session_config': allow_soft_placement: true\n",
      "graph_options {\n",
      "  rewrite_options {\n",
      "    meta_optimizer_iterations: ONE\n",
      "  }\n",
      "}\n",
      ", '_keep_checkpoint_max': 5, '_keep_checkpoint_every_n_hours': 10000, '_log_step_count_steps': 100, '_train_distribute': None, '_device_fn': None, '_protocol': None, '_eval_distribute': None, '_experimental_distribute': None, '_service': None, '_cluster_spec': <tensorflow.python.training.server_lib.ClusterSpec object at 0x00000294937F25C0>, '_task_type': 'worker', '_task_id': 0, '_global_id_in_cluster': 0, '_master': '', '_evaluation_master': '', '_is_chief': True, '_num_ps_replicas': 0, '_num_worker_replicas': 1}\n"
     ]
    }
   ],
   "source": [
    "feature_cols = [tf.feature_column.numeric_column(k) for k in FEATURES]\n",
    "\n",
    "regressor = tf.estimator.DNNRegressor(feature_columns=feature_cols, hidden_units=[10, 10])"
   ]
  },
  {
   "cell_type": "code",
   "execution_count": 6,
   "metadata": {},
   "outputs": [
    {
     "name": "stdout",
     "output_type": "stream",
     "text": [
      "WARNING:tensorflow:From C:\\ProgramData\\Anaconda3\\lib\\site-packages\\tensorflow\\python\\framework\\op_def_library.py:263: colocate_with (from tensorflow.python.framework.ops) is deprecated and will be removed in a future version.\n",
      "Instructions for updating:\n",
      "Colocations handled automatically by placer.\n",
      "WARNING:tensorflow:From C:\\ProgramData\\Anaconda3\\lib\\site-packages\\tensorflow_estimator\\python\\estimator\\inputs\\queues\\feeding_queue_runner.py:62: QueueRunner.__init__ (from tensorflow.python.training.queue_runner_impl) is deprecated and will be removed in a future version.\n",
      "Instructions for updating:\n",
      "To construct input pipelines, use the `tf.data` module.\n",
      "WARNING:tensorflow:From C:\\ProgramData\\Anaconda3\\lib\\site-packages\\tensorflow_estimator\\python\\estimator\\inputs\\queues\\feeding_functions.py:500: add_queue_runner (from tensorflow.python.training.queue_runner_impl) is deprecated and will be removed in a future version.\n",
      "Instructions for updating:\n",
      "To construct input pipelines, use the `tf.data` module.\n",
      "INFO:tensorflow:Calling model_fn.\n",
      "WARNING:tensorflow:From C:\\ProgramData\\Anaconda3\\lib\\site-packages\\tensorflow\\python\\feature_column\\feature_column_v2.py:2703: to_float (from tensorflow.python.ops.math_ops) is deprecated and will be removed in a future version.\n",
      "Instructions for updating:\n",
      "Use tf.cast instead.\n",
      "INFO:tensorflow:Done calling model_fn.\n",
      "INFO:tensorflow:Create CheckpointSaverHook.\n",
      "INFO:tensorflow:Graph was finalized.\n",
      "INFO:tensorflow:Running local_init_op.\n",
      "INFO:tensorflow:Done running local_init_op.\n",
      "WARNING:tensorflow:From C:\\ProgramData\\Anaconda3\\lib\\site-packages\\tensorflow\\python\\training\\monitored_session.py:809: start_queue_runners (from tensorflow.python.training.queue_runner_impl) is deprecated and will be removed in a future version.\n",
      "Instructions for updating:\n",
      "To construct input pipelines, use the `tf.data` module.\n",
      "INFO:tensorflow:Saving checkpoints for 0 into C:\\Users\\foryo\\AppData\\Local\\Temp\\tmpja0imn9f\\model.ckpt.\n",
      "INFO:tensorflow:loss = 2281336.2, step = 1\n",
      "INFO:tensorflow:global_step/sec: 50.8937\n",
      "INFO:tensorflow:loss = 19470.678, step = 101 (1.973 sec)\n",
      "INFO:tensorflow:global_step/sec: 88.3445\n",
      "INFO:tensorflow:loss = 11614.386, step = 201 (1.135 sec)\n",
      "INFO:tensorflow:global_step/sec: 95.608\n",
      "INFO:tensorflow:loss = 10334.097, step = 301 (1.043 sec)\n",
      "INFO:tensorflow:global_step/sec: 96.1597\n",
      "INFO:tensorflow:loss = 8615.347, step = 401 (1.047 sec)\n",
      "INFO:tensorflow:global_step/sec: 89.4504\n",
      "INFO:tensorflow:loss = 11607.516, step = 501 (1.112 sec)\n",
      "INFO:tensorflow:global_step/sec: 92.6839\n",
      "INFO:tensorflow:loss = 11840.476, step = 601 (1.080 sec)\n",
      "INFO:tensorflow:global_step/sec: 92.0024\n",
      "INFO:tensorflow:loss = 12186.934, step = 701 (1.080 sec)\n",
      "INFO:tensorflow:global_step/sec: 83.1996\n",
      "INFO:tensorflow:loss = 7457.945, step = 801 (1.210 sec)\n",
      "INFO:tensorflow:global_step/sec: 90.4211\n",
      "INFO:tensorflow:loss = 8362.957, step = 901 (1.105 sec)\n",
      "INFO:tensorflow:global_step/sec: 91.8332\n",
      "INFO:tensorflow:loss = 8437.909, step = 1001 (1.096 sec)\n",
      "INFO:tensorflow:global_step/sec: 83.8273\n",
      "INFO:tensorflow:loss = 10123.211, step = 1101 (1.182 sec)\n",
      "INFO:tensorflow:global_step/sec: 90.9142\n",
      "INFO:tensorflow:loss = 6994.4307, step = 1201 (1.105 sec)\n",
      "INFO:tensorflow:global_step/sec: 76.5744\n",
      "INFO:tensorflow:loss = 8471.336, step = 1301 (1.305 sec)\n",
      "INFO:tensorflow:global_step/sec: 98.3337\n",
      "INFO:tensorflow:loss = 8802.347, step = 1401 (1.015 sec)\n",
      "INFO:tensorflow:global_step/sec: 96.906\n",
      "INFO:tensorflow:loss = 10879.111, step = 1501 (1.030 sec)\n",
      "INFO:tensorflow:global_step/sec: 96.252\n",
      "INFO:tensorflow:loss = 10677.102, step = 1601 (1.044 sec)\n",
      "INFO:tensorflow:global_step/sec: 91.8323\n",
      "INFO:tensorflow:loss = 8987.72, step = 1701 (1.089 sec)\n",
      "INFO:tensorflow:global_step/sec: 85.1121\n",
      "INFO:tensorflow:loss = 5402.229, step = 1801 (1.182 sec)\n",
      "INFO:tensorflow:global_step/sec: 72.1024\n",
      "INFO:tensorflow:loss = 7056.5234, step = 1901 (1.381 sec)\n",
      "INFO:tensorflow:global_step/sec: 76.108\n",
      "INFO:tensorflow:loss = 7855.832, step = 2001 (1.310 sec)\n",
      "INFO:tensorflow:global_step/sec: 77.1054\n",
      "INFO:tensorflow:loss = 6909.978, step = 2101 (1.299 sec)\n",
      "INFO:tensorflow:global_step/sec: 89.6919\n",
      "INFO:tensorflow:loss = 14905.681, step = 2201 (1.110 sec)\n",
      "INFO:tensorflow:global_step/sec: 87.9513\n",
      "INFO:tensorflow:loss = 6407.338, step = 2301 (1.136 sec)\n",
      "INFO:tensorflow:global_step/sec: 94.4343\n",
      "INFO:tensorflow:loss = 8722.404, step = 2401 (1.062 sec)\n",
      "INFO:tensorflow:global_step/sec: 88.9735\n",
      "INFO:tensorflow:loss = 8120.745, step = 2501 (1.125 sec)\n",
      "INFO:tensorflow:global_step/sec: 74.5199\n",
      "INFO:tensorflow:loss = 6197.22, step = 2601 (1.340 sec)\n",
      "INFO:tensorflow:global_step/sec: 71.6377\n",
      "INFO:tensorflow:loss = 5533.602, step = 2701 (1.395 sec)\n",
      "INFO:tensorflow:global_step/sec: 83.338\n",
      "INFO:tensorflow:loss = 6070.2305, step = 2801 (1.206 sec)\n",
      "INFO:tensorflow:global_step/sec: 71.1788\n",
      "INFO:tensorflow:loss = 10825.451, step = 2901 (1.400 sec)\n",
      "INFO:tensorflow:global_step/sec: 61.885\n",
      "INFO:tensorflow:loss = 7191.1367, step = 3001 (1.620 sec)\n",
      "INFO:tensorflow:global_step/sec: 68.7689\n",
      "INFO:tensorflow:loss = 8376.283, step = 3101 (1.454 sec)\n",
      "INFO:tensorflow:global_step/sec: 89.1269\n",
      "INFO:tensorflow:loss = 6510.8657, step = 3201 (1.121 sec)\n",
      "INFO:tensorflow:global_step/sec: 84.8226\n",
      "INFO:tensorflow:loss = 6947.151, step = 3301 (1.174 sec)\n",
      "INFO:tensorflow:global_step/sec: 96.9989\n",
      "INFO:tensorflow:loss = 4806.372, step = 3401 (1.033 sec)\n",
      "INFO:tensorflow:global_step/sec: 96.9048\n",
      "INFO:tensorflow:loss = 5471.3926, step = 3501 (1.037 sec)\n",
      "INFO:tensorflow:global_step/sec: 103.496\n",
      "INFO:tensorflow:loss = 7147.208, step = 3601 (0.966 sec)\n",
      "INFO:tensorflow:global_step/sec: 103.434\n",
      "INFO:tensorflow:loss = 8320.271, step = 3701 (0.966 sec)\n",
      "INFO:tensorflow:global_step/sec: 98.4309\n",
      "INFO:tensorflow:loss = 5511.6455, step = 3801 (1.015 sec)\n",
      "INFO:tensorflow:global_step/sec: 83.1998\n",
      "INFO:tensorflow:loss = 10143.305, step = 3901 (1.211 sec)\n",
      "INFO:tensorflow:global_step/sec: 83.1995\n",
      "INFO:tensorflow:loss = 7698.5454, step = 4001 (1.197 sec)\n",
      "INFO:tensorflow:global_step/sec: 92.9423\n",
      "INFO:tensorflow:loss = 7639.0586, step = 4101 (1.076 sec)\n",
      "INFO:tensorflow:global_step/sec: 92.4275\n",
      "INFO:tensorflow:loss = 5287.6426, step = 4201 (1.078 sec)\n",
      "INFO:tensorflow:global_step/sec: 90.0778\n",
      "INFO:tensorflow:loss = 8688.645, step = 4301 (1.108 sec)\n",
      "INFO:tensorflow:global_step/sec: 90.7358\n",
      "INFO:tensorflow:loss = 7318.132, step = 4401 (1.106 sec)\n",
      "INFO:tensorflow:global_step/sec: 90.9782\n",
      "INFO:tensorflow:loss = 6591.87, step = 4501 (1.093 sec)\n",
      "INFO:tensorflow:global_step/sec: 92.3245\n",
      "INFO:tensorflow:loss = 6574.7197, step = 4601 (1.085 sec)\n",
      "INFO:tensorflow:global_step/sec: 91.8195\n",
      "INFO:tensorflow:loss = 7489.1934, step = 4701 (1.090 sec)\n",
      "INFO:tensorflow:global_step/sec: 92.5829\n",
      "INFO:tensorflow:loss = 7887.906, step = 4801 (1.082 sec)\n",
      "INFO:tensorflow:global_step/sec: 93.1818\n",
      "INFO:tensorflow:loss = 6519.4717, step = 4901 (1.072 sec)\n",
      "INFO:tensorflow:Saving checkpoints for 5000 into C:\\Users\\foryo\\AppData\\Local\\Temp\\tmpja0imn9f\\model.ckpt.\n",
      "INFO:tensorflow:Loss for final step: 6020.228.\n"
     ]
    },
    {
     "data": {
      "text/plain": [
       "<tensorflow_estimator.python.estimator.canned.dnn.DNNRegressor at 0x294939d5c18>"
      ]
     },
     "execution_count": 6,
     "metadata": {},
     "output_type": "execute_result"
    }
   ],
   "source": [
    "regressor.train(input_fn=get_input_fn(training_set), steps=5000)"
   ]
  },
  {
   "cell_type": "code",
   "execution_count": 7,
   "metadata": {},
   "outputs": [
    {
     "name": "stdout",
     "output_type": "stream",
     "text": [
      "INFO:tensorflow:Calling model_fn.\n",
      "INFO:tensorflow:Done calling model_fn.\n",
      "INFO:tensorflow:Starting evaluation at 2019-08-14T16:58:19Z\n",
      "INFO:tensorflow:Graph was finalized.\n",
      "WARNING:tensorflow:From C:\\ProgramData\\Anaconda3\\lib\\site-packages\\tensorflow\\python\\training\\saver.py:1266: checkpoint_exists (from tensorflow.python.training.checkpoint_management) is deprecated and will be removed in a future version.\n",
      "Instructions for updating:\n",
      "Use standard file APIs to check for files with this prefix.\n",
      "INFO:tensorflow:Restoring parameters from C:\\Users\\foryo\\AppData\\Local\\Temp\\tmpja0imn9f\\model.ckpt-5000\n",
      "INFO:tensorflow:Running local_init_op.\n",
      "INFO:tensorflow:Done running local_init_op.\n",
      "INFO:tensorflow:Finished evaluation at 2019-08-14-16:58:21\n",
      "INFO:tensorflow:Saving dict for global step 5000: average_loss = 27.059664, global_step = 5000, label/mean = 22.08, loss = 2705.9663, prediction/mean = 23.70732\n",
      "INFO:tensorflow:Saving 'checkpoint_path' summary for global step 5000: C:\\Users\\foryo\\AppData\\Local\\Temp\\tmpja0imn9f\\model.ckpt-5000\n",
      "Loss: 2705.966309\n"
     ]
    }
   ],
   "source": [
    "ev = regressor.evaluate(input_fn=get_input_fn(test_set, num_epochs=1, shuffle=False))\n",
    "loss_score = ev[\"loss\"]\n",
    "print(\"Loss: {0:f}\".format(loss_score))"
   ]
  },
  {
   "cell_type": "code",
   "execution_count": 8,
   "metadata": {},
   "outputs": [
    {
     "name": "stdout",
     "output_type": "stream",
     "text": [
      "INFO:tensorflow:Calling model_fn.\n",
      "INFO:tensorflow:Done calling model_fn.\n",
      "INFO:tensorflow:Graph was finalized.\n",
      "INFO:tensorflow:Restoring parameters from C:\\Users\\foryo\\AppData\\Local\\Temp\\tmpja0imn9f\\model.ckpt-5000\n",
      "INFO:tensorflow:Running local_init_op.\n",
      "INFO:tensorflow:Done running local_init_op.\n",
      "Predictions: [array([35.434975], dtype=float32), array([20.225082], dtype=float32), array([26.147608], dtype=float32), array([33.033707], dtype=float32), array([16.888948], dtype=float32), array([21.733795], dtype=float32)]\n"
     ]
    }
   ],
   "source": [
    "y = regressor.predict(input_fn=get_input_fn(prediction_set, num_epochs=1, shuffle=False))\n",
    "predictions = list(p[\"predictions\"] for p in itertools.islice(y, 6))\n",
    "print(\"Predictions: {}\".format(str(predictions)))"
   ]
  },
  {
   "cell_type": "code",
   "execution_count": null,
   "metadata": {},
   "outputs": [],
   "source": []
  }
 ],
 "metadata": {
  "kernelspec": {
   "display_name": "Python 3",
   "language": "python",
   "name": "python3"
  },
  "language_info": {
   "codemirror_mode": {
    "name": "ipython",
    "version": 3
   },
   "file_extension": ".py",
   "mimetype": "text/x-python",
   "name": "python",
   "nbconvert_exporter": "python",
   "pygments_lexer": "ipython3",
   "version": "3.7.3"
  }
 },
 "nbformat": 4,
 "nbformat_minor": 2
}
