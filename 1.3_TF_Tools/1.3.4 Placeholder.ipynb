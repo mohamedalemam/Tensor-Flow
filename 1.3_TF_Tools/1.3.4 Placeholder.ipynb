{
 "cells": [
  {
   "cell_type": "code",
   "execution_count": 1,
   "metadata": {},
   "outputs": [],
   "source": [
    "import tensorflow as tf"
   ]
  },
  {
   "cell_type": "code",
   "execution_count": 2,
   "metadata": {},
   "outputs": [
    {
     "name": "stdout",
     "output_type": "stream",
     "text": [
      "3.0\n"
     ]
    }
   ],
   "source": [
    "a = tf.placeholder(tf.float32)\n",
    "with tf.Session() as sess : \n",
    "    result = sess.run(a , feed_dict ={a:3})\n",
    "    print(result)"
   ]
  },
  {
   "cell_type": "code",
   "execution_count": 3,
   "metadata": {},
   "outputs": [
    {
     "name": "stdout",
     "output_type": "stream",
     "text": [
      "6.0\n"
     ]
    }
   ],
   "source": [
    "a = tf.placeholder(tf.float32)\n",
    "b = a*2\n",
    "with tf.Session() as sess : \n",
    "    result = sess.run(b , feed_dict ={a:3})\n",
    "    print(result)\n"
   ]
  },
  {
   "cell_type": "code",
   "execution_count": 4,
   "metadata": {},
   "outputs": [
    {
     "name": "stdout",
     "output_type": "stream",
     "text": [
      "770.5\n"
     ]
    }
   ],
   "source": [
    "x = tf.placeholder(tf.float32)\n",
    "y = tf.placeholder(tf.float32)\n",
    "z = tf.placeholder(tf.float32)\n",
    "w = tf.placeholder(tf.float32)\n",
    "\n",
    "b = x*2 + 3*y**4 - 4/z + w-9\n",
    "\n",
    "with tf.Session() as sess : \n",
    "    result = sess.run(b , feed_dict ={x:3,y:4,z:8,w:6})\n",
    "    print(result)"
   ]
  },
  {
   "cell_type": "code",
   "execution_count": 5,
   "metadata": {},
   "outputs": [
    {
     "name": "stdout",
     "output_type": "stream",
     "text": [
      "770.5\n"
     ]
    }
   ],
   "source": [
    "x = tf.placeholder(tf.float32)\n",
    "y = tf.placeholder(tf.float32)\n",
    "z = tf.constant(8,tf.float32)\n",
    "w = tf.constant(6,tf.float32)\n",
    "\n",
    "b = x*2 + 3*y**4 - 4/z + w-9\n",
    "\n",
    "with tf.Session() as sess :\n",
    "    result = sess.run(b , feed_dict ={x:3.0,y:4.0})\n",
    "    print(result)"
   ]
  },
  {
   "cell_type": "code",
   "execution_count": 6,
   "metadata": {},
   "outputs": [
    {
     "name": "stdout",
     "output_type": "stream",
     "text": [
      "25.0\n"
     ]
    }
   ],
   "source": [
    "x = tf.placeholder(tf.float32)\n",
    "y = x**2\n",
    "with tf.Session() as sess :\n",
    "    print(sess.run(y,feed_dict={x:5}))"
   ]
  },
  {
   "cell_type": "code",
   "execution_count": 7,
   "metadata": {},
   "outputs": [
    {
     "name": "stdout",
     "output_type": "stream",
     "text": [
      "[  25.   64.  100. 2500.]\n"
     ]
    }
   ],
   "source": [
    "x = tf.placeholder(tf.float32)\n",
    "y = x**2\n",
    "with tf.Session() as sess :\n",
    "    print(sess.run(y, {x:[5,8,10,50]}))"
   ]
  },
  {
   "cell_type": "code",
   "execution_count": 8,
   "metadata": {},
   "outputs": [
    {
     "name": "stdout",
     "output_type": "stream",
     "text": [
      "[  25.   36.   49.   64.   81.  100.  121.  144.  169.  196.  225.  256.\n",
      "  289.  324.  361.  400.  441.  484.  529.  576.  625.  676.  729.  784.\n",
      "  841.  900.  961. 1024. 1089. 1156. 1225. 1296. 1369. 1444. 1521. 1600.\n",
      " 1681. 1764. 1849. 1936. 2025. 2116. 2209. 2304. 2401. 2500. 2601. 2704.\n",
      " 2809. 2916. 3025. 3136. 3249. 3364. 3481. 3600. 3721. 3844. 3969. 4096.\n",
      " 4225. 4356. 4489. 4624. 4761. 4900. 5041. 5184. 5329. 5476. 5625. 5776.\n",
      " 5929. 6084. 6241. 6400. 6561. 6724. 6889. 7056. 7225. 7396. 7569. 7744.\n",
      " 7921. 8100. 8281. 8464. 8649. 8836. 9025. 9216. 9409. 9604. 9801.]\n"
     ]
    }
   ],
   "source": [
    "x = tf.placeholder(tf.float32)\n",
    "y = x**2\n",
    "with tf.Session() as sess :\n",
    "    print(sess.run(y, {x:list(range(5,100))}))"
   ]
  },
  {
   "cell_type": "code",
   "execution_count": 9,
   "metadata": {},
   "outputs": [
    {
     "name": "stdout",
     "output_type": "stream",
     "text": [
      "WARNING:tensorflow:From C:\\ProgramData\\Anaconda3\\lib\\site-packages\\tensorflow\\python\\framework\\op_def_library.py:263: colocate_with (from tensorflow.python.framework.ops) is deprecated and will be removed in a future version.\n",
      "Instructions for updating:\n",
      "Colocations handled automatically by placer.\n",
      "[22. 32. 42. 52.]\n"
     ]
    }
   ],
   "source": [
    "w = tf.constant([5.0])\n",
    "b = tf.Variable([7.0],tf.float32)\n",
    "\n",
    "x = tf.placeholder(tf.float32)\n",
    "\n",
    "LinearRegressionModel = w*x + b\n",
    "\n",
    "with tf.Session() as sess :\n",
    "    sess.run(tf.global_variables_initializer())\n",
    "    print(sess.run(LinearRegressionModel,{x:[3,5,7,9]}))"
   ]
  },
  {
   "cell_type": "code",
   "execution_count": null,
   "metadata": {},
   "outputs": [],
   "source": []
  }
 ],
 "metadata": {
  "kernelspec": {
   "display_name": "Python 3",
   "language": "python",
   "name": "python3"
  },
  "language_info": {
   "codemirror_mode": {
    "name": "ipython",
    "version": 3
   },
   "file_extension": ".py",
   "mimetype": "text/x-python",
   "name": "python",
   "nbconvert_exporter": "python",
   "pygments_lexer": "ipython3",
   "version": "3.7.3"
  }
 },
 "nbformat": 4,
 "nbformat_minor": 2
}
