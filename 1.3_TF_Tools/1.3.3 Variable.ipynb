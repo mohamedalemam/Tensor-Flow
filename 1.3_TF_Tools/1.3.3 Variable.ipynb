{
 "cells": [
  {
   "cell_type": "code",
   "execution_count": 1,
   "metadata": {},
   "outputs": [],
   "source": [
    "import tensorflow as tf"
   ]
  },
  {
   "cell_type": "code",
   "execution_count": 2,
   "metadata": {},
   "outputs": [
    {
     "name": "stdout",
     "output_type": "stream",
     "text": [
      "WARNING:tensorflow:From C:\\ProgramData\\Anaconda3\\lib\\site-packages\\tensorflow\\python\\framework\\op_def_library.py:263: colocate_with (from tensorflow.python.framework.ops) is deprecated and will be removed in a future version.\n",
      "Instructions for updating:\n",
      "Colocations handled automatically by placer.\n"
     ]
    }
   ],
   "source": [
    "a = tf.Variable(3)\n",
    "b = tf.Variable(3,tf.float32)\n",
    "c = tf.Variable([2,5,6,9,6])\n",
    "d = tf.Variable([[2,5,6],[8,5,8], [8,8,1]])\n",
    "e = tf.Variable('I love TensorFlow')"
   ]
  },
  {
   "cell_type": "code",
   "execution_count": 3,
   "metadata": {},
   "outputs": [
    {
     "name": "stdout",
     "output_type": "stream",
     "text": [
      "3\n",
      "3\n",
      "[2 5 6 9 6]\n",
      "[[2 5 6]\n",
      " [8 5 8]\n",
      " [8 8 1]]\n",
      "b'I love TensorFlow'\n"
     ]
    }
   ],
   "source": [
    "with tf.Session() as sess :\n",
    "    sess.run(tf.global_variables_initializer())\n",
    "    print(sess.run(a))\n",
    "    print(sess.run(b))\n",
    "    print(sess.run(c))\n",
    "    print(sess.run(d))\n",
    "    print(sess.run(e))\n"
   ]
  },
  {
   "cell_type": "code",
   "execution_count": 4,
   "metadata": {},
   "outputs": [
    {
     "name": "stdout",
     "output_type": "stream",
     "text": [
      "original price is :  20\n"
     ]
    }
   ],
   "source": [
    "price = tf.Variable(20) \n",
    "sess = tf.Session()\n",
    "init = tf.global_variables_initializer()\n",
    "sess.run(init)\n",
    "print('original price is : ',sess.run(price))"
   ]
  },
  {
   "cell_type": "code",
   "execution_count": 5,
   "metadata": {},
   "outputs": [
    {
     "name": "stdout",
     "output_type": "stream",
     "text": [
      "the price is :  30\n",
      "the price is :  40\n",
      "the price is :  50\n",
      "the price is :  60\n"
     ]
    }
   ],
   "source": [
    "price = tf.Variable(30) \n",
    "sess.run(tf.global_variables_initializer())\n",
    "print('the price is : ',sess.run(price))\n",
    "\n",
    "price = tf.Variable(40) \n",
    "sess.run(tf.global_variables_initializer())\n",
    "print('the price is : ',sess.run(price))\n",
    "\n",
    "price = tf.Variable(50) \n",
    "sess.run(tf.global_variables_initializer())\n",
    "print('the price is : ',sess.run(price))\n",
    "\n",
    "price = tf.Variable(60) \n",
    "sess.run(tf.global_variables_initializer())\n",
    "print('the price is : ',sess.run(price))"
   ]
  },
  {
   "cell_type": "code",
   "execution_count": 8,
   "metadata": {},
   "outputs": [
    {
     "name": "stdout",
     "output_type": "stream",
     "text": [
      "new price is :  50\n"
     ]
    }
   ],
   "source": [
    "'''\n",
    "value = tf.assign(value,newvalue)\n",
    "'''\n",
    "price = tf.assign(price,50)\n",
    "print('new price is : ',sess.run(price))"
   ]
  },
  {
   "cell_type": "code",
   "execution_count": 9,
   "metadata": {},
   "outputs": [
    {
     "name": "stdout",
     "output_type": "stream",
     "text": [
      "new price is :  60\n",
      "new price is :  70\n",
      "new price is :  80\n",
      "new price is :  90\n",
      "new price is :  100\n",
      "new price is :  110\n"
     ]
    }
   ],
   "source": [
    "for j in range(6) : \n",
    "    price = tf.assign(price,price+10)\n",
    "    print('new price is : ',sess.run(price))"
   ]
  },
  {
   "cell_type": "code",
   "execution_count": null,
   "metadata": {},
   "outputs": [],
   "source": []
  }
 ],
 "metadata": {
  "kernelspec": {
   "display_name": "Python 3",
   "language": "python",
   "name": "python3"
  },
  "language_info": {
   "codemirror_mode": {
    "name": "ipython",
    "version": 3
   },
   "file_extension": ".py",
   "mimetype": "text/x-python",
   "name": "python",
   "nbconvert_exporter": "python",
   "pygments_lexer": "ipython3",
   "version": "3.7.3"
  }
 },
 "nbformat": 4,
 "nbformat_minor": 2
}
