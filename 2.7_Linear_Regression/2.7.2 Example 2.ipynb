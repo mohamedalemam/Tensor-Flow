{
 "cells": [
  {
   "cell_type": "code",
   "execution_count": 1,
   "metadata": {},
   "outputs": [],
   "source": [
    "import pandas as pd\n",
    "import numpy as np\n",
    "import tensorflow as tf\n",
    "import itertools"
   ]
  },
  {
   "cell_type": "code",
   "execution_count": 2,
   "metadata": {},
   "outputs": [
    {
     "data": {
      "text/plain": [
       "array([[  2.,   0.,  20.,   1.,   6.,  96.,   2., 403.,  15.,  24.,  nan,\n",
       "         nan],\n",
       "       [ 13.,   0.,  18.,   1.,   6.,  95.,   2., 666.,  20.,  13.,  nan,\n",
       "         nan],\n",
       "       [  0.,   0.,   7.,   0.,   7.,   3.,   6., 233.,  18.,  27.,  nan,\n",
       "         nan],\n",
       "       [  0.,   0.,  11.,   0.,   6.,  18.,   5., 305.,  19.,  22.,  nan,\n",
       "         nan],\n",
       "       [  0.,  80.,   2.,   0.,   7.,  38.,   7., 329.,  13.,  35.,  nan,\n",
       "         nan]])"
      ]
     },
     "execution_count": 2,
     "metadata": {},
     "output_type": "execute_result"
    }
   ],
   "source": [
    "training_set_n = pd.read_csv(\"boston_train.csv\").values\n",
    "test_set_n = pd.read_csv(\"boston_test.csv\").values\n",
    "prediction_set_n = pd.read_csv(\"boston_predict.csv\").values\n",
    "np.round (training_set_n[:5])"
   ]
  },
  {
   "cell_type": "code",
   "execution_count": 3,
   "metadata": {},
   "outputs": [
    {
     "name": "stdout",
     "output_type": "stream",
     "text": [
      "(400, 9) (400,) (6, 9)\n"
     ]
    }
   ],
   "source": [
    "def prepare_data(df):     \n",
    "        X_train = df[:, :-3]    \n",
    "        y_train = df[:,-3]    \n",
    "        return X_train, y_train\t\n",
    "X_train, y_train = prepare_data(training_set_n)\n",
    "X_test, y_test = prepare_data(test_set_n)\t\n",
    "x_predict = prediction_set_n[:, :-2]\t\t\t\n",
    "print(X_train.shape, y_train.shape, x_predict.shape)\t\t\t\n",
    "\n",
    "feature_columns = [tf.feature_column.numeric_column('x',\n",
    "                                                    shape=X_train.shape[1:])]\t\t\t"
   ]
  },
  {
   "cell_type": "code",
   "execution_count": 4,
   "metadata": {},
   "outputs": [
    {
     "name": "stdout",
     "output_type": "stream",
     "text": [
      "INFO:tensorflow:Using default config.\n",
      "INFO:tensorflow:Using config: {'_model_dir': 'train1', '_tf_random_seed': None, '_save_summary_steps': 100, '_save_checkpoints_steps': None, '_save_checkpoints_secs': 600, '_session_config': allow_soft_placement: true\n",
      "graph_options {\n",
      "  rewrite_options {\n",
      "    meta_optimizer_iterations: ONE\n",
      "  }\n",
      "}\n",
      ", '_keep_checkpoint_max': 5, '_keep_checkpoint_every_n_hours': 10000, '_log_step_count_steps': 100, '_train_distribute': None, '_device_fn': None, '_protocol': None, '_eval_distribute': None, '_experimental_distribute': None, '_service': None, '_cluster_spec': <tensorflow.python.training.server_lib.ClusterSpec object at 0x000001D45EF6BD30>, '_task_type': 'worker', '_task_id': 0, '_global_id_in_cluster': 0, '_master': '', '_evaluation_master': '', '_is_chief': True, '_num_ps_replicas': 0, '_num_worker_replicas': 1}\n"
     ]
    }
   ],
   "source": [
    "estimator = tf.estimator.LinearRegressor(    \n",
    "         feature_columns=feature_columns,    \n",
    "         model_dir=\"train1\")\t"
   ]
  },
  {
   "cell_type": "code",
   "execution_count": 5,
   "metadata": {},
   "outputs": [],
   "source": [
    "# Train the estimator\n",
    "train_input = tf.estimator.inputs.numpy_input_fn(x={\"x\": X_train},    \n",
    "                                                 y=y_train,\n",
    "                                                 batch_size=128,\n",
    "                                                 shuffle=False,\n",
    "                                                 num_epochs=None)"
   ]
  },
  {
   "cell_type": "code",
   "execution_count": 6,
   "metadata": {},
   "outputs": [
    {
     "name": "stdout",
     "output_type": "stream",
     "text": [
      "WARNING:tensorflow:From C:\\ProgramData\\Anaconda3\\lib\\site-packages\\tensorflow\\python\\framework\\op_def_library.py:263: colocate_with (from tensorflow.python.framework.ops) is deprecated and will be removed in a future version.\n",
      "Instructions for updating:\n",
      "Colocations handled automatically by placer.\n",
      "WARNING:tensorflow:From C:\\ProgramData\\Anaconda3\\lib\\site-packages\\tensorflow_estimator\\python\\estimator\\inputs\\queues\\feeding_queue_runner.py:62: QueueRunner.__init__ (from tensorflow.python.training.queue_runner_impl) is deprecated and will be removed in a future version.\n",
      "Instructions for updating:\n",
      "To construct input pipelines, use the `tf.data` module.\n",
      "WARNING:tensorflow:From C:\\ProgramData\\Anaconda3\\lib\\site-packages\\tensorflow_estimator\\python\\estimator\\inputs\\queues\\feeding_functions.py:500: add_queue_runner (from tensorflow.python.training.queue_runner_impl) is deprecated and will be removed in a future version.\n",
      "Instructions for updating:\n",
      "To construct input pipelines, use the `tf.data` module.\n",
      "INFO:tensorflow:Calling model_fn.\n",
      "WARNING:tensorflow:From C:\\ProgramData\\Anaconda3\\lib\\site-packages\\tensorflow\\python\\feature_column\\feature_column_v2.py:2703: to_float (from tensorflow.python.ops.math_ops) is deprecated and will be removed in a future version.\n",
      "Instructions for updating:\n",
      "Use tf.cast instead.\n",
      "INFO:tensorflow:Done calling model_fn.\n",
      "INFO:tensorflow:Create CheckpointSaverHook.\n",
      "INFO:tensorflow:Graph was finalized.\n",
      "INFO:tensorflow:Running local_init_op.\n",
      "INFO:tensorflow:Done running local_init_op.\n",
      "WARNING:tensorflow:From C:\\ProgramData\\Anaconda3\\lib\\site-packages\\tensorflow\\python\\training\\monitored_session.py:809: start_queue_runners (from tensorflow.python.training.queue_runner_impl) is deprecated and will be removed in a future version.\n",
      "Instructions for updating:\n",
      "To construct input pipelines, use the `tf.data` module.\n",
      "INFO:tensorflow:Saving checkpoints for 0 into train1\\model.ckpt.\n",
      "INFO:tensorflow:loss = 83729.64, step = 1\n",
      "INFO:tensorflow:global_step/sec: 127.635\n",
      "INFO:tensorflow:loss = 13909.656, step = 101 (0.794 sec)\n",
      "INFO:tensorflow:global_step/sec: 260.432\n",
      "INFO:tensorflow:loss = 12881.449, step = 201 (0.383 sec)\n",
      "INFO:tensorflow:global_step/sec: 302.132\n",
      "INFO:tensorflow:loss = 12391.541, step = 301 (0.328 sec)\n",
      "INFO:tensorflow:global_step/sec: 298.527\n",
      "INFO:tensorflow:loss = 12050.5625, step = 401 (0.334 sec)\n",
      "INFO:tensorflow:global_step/sec: 265.268\n",
      "INFO:tensorflow:loss = 11766.133, step = 501 (0.377 sec)\n",
      "INFO:tensorflow:global_step/sec: 274.738\n",
      "INFO:tensorflow:loss = 11509.919, step = 601 (0.364 sec)\n",
      "INFO:tensorflow:global_step/sec: 251.272\n",
      "INFO:tensorflow:loss = 11272.887, step = 701 (0.400 sec)\n",
      "INFO:tensorflow:global_step/sec: 250.644\n",
      "INFO:tensorflow:loss = 11051.979, step = 801 (0.396 sec)\n",
      "INFO:tensorflow:global_step/sec: 330.052\n",
      "INFO:tensorflow:loss = 10845.852, step = 901 (0.303 sec)\n",
      "INFO:tensorflow:global_step/sec: 278.57\n",
      "INFO:tensorflow:loss = 10653.592, step = 1001 (0.360 sec)\n",
      "INFO:tensorflow:global_step/sec: 336.717\n",
      "INFO:tensorflow:loss = 10474.328, step = 1101 (0.296 sec)\n",
      "INFO:tensorflow:global_step/sec: 297.639\n",
      "INFO:tensorflow:loss = 10307.186, step = 1201 (0.341 sec)\n",
      "INFO:tensorflow:global_step/sec: 298.113\n",
      "INFO:tensorflow:loss = 10151.305, step = 1301 (0.333 sec)\n",
      "INFO:tensorflow:global_step/sec: 354.631\n",
      "INFO:tensorflow:loss = 10005.834, step = 1401 (0.278 sec)\n",
      "INFO:tensorflow:global_step/sec: 346.041\n",
      "INFO:tensorflow:loss = 9869.973, step = 1501 (0.291 sec)\n",
      "INFO:tensorflow:global_step/sec: 349.789\n",
      "INFO:tensorflow:loss = 9742.977, step = 1601 (0.287 sec)\n",
      "INFO:tensorflow:global_step/sec: 318.49\n",
      "INFO:tensorflow:loss = 9624.158, step = 1701 (0.313 sec)\n",
      "INFO:tensorflow:global_step/sec: 342.486\n",
      "INFO:tensorflow:loss = 9512.879, step = 1801 (0.294 sec)\n",
      "INFO:tensorflow:global_step/sec: 335.584\n",
      "INFO:tensorflow:loss = 9408.559, step = 1901 (0.296 sec)\n",
      "INFO:tensorflow:global_step/sec: 318.44\n",
      "INFO:tensorflow:loss = 9310.675, step = 2001 (0.312 sec)\n",
      "INFO:tensorflow:global_step/sec: 354.635\n",
      "INFO:tensorflow:loss = 9218.739, step = 2101 (0.283 sec)\n",
      "INFO:tensorflow:global_step/sec: 342.114\n",
      "INFO:tensorflow:loss = 9132.314, step = 2201 (0.296 sec)\n",
      "INFO:tensorflow:global_step/sec: 291.564\n",
      "INFO:tensorflow:loss = 9051.0, step = 2301 (0.339 sec)\n",
      "INFO:tensorflow:global_step/sec: 304.896\n",
      "INFO:tensorflow:loss = 8974.424, step = 2401 (0.327 sec)\n",
      "INFO:tensorflow:global_step/sec: 195.325\n",
      "INFO:tensorflow:loss = 8902.257, step = 2501 (0.515 sec)\n",
      "INFO:tensorflow:global_step/sec: 206.622\n",
      "INFO:tensorflow:loss = 8834.19, step = 2601 (0.485 sec)\n",
      "INFO:tensorflow:global_step/sec: 358.102\n",
      "INFO:tensorflow:loss = 8769.942, step = 2701 (0.274 sec)\n",
      "INFO:tensorflow:global_step/sec: 335.698\n",
      "INFO:tensorflow:loss = 8709.258, step = 2801 (0.302 sec)\n",
      "INFO:tensorflow:global_step/sec: 343.86\n",
      "INFO:tensorflow:loss = 8651.895, step = 2901 (0.291 sec)\n",
      "INFO:tensorflow:global_step/sec: 283.39\n",
      "INFO:tensorflow:loss = 8597.641, step = 3001 (0.356 sec)\n",
      "INFO:tensorflow:global_step/sec: 314.281\n",
      "INFO:tensorflow:loss = 8546.287, step = 3101 (0.414 sec)\n",
      "INFO:tensorflow:global_step/sec: 256.426\n",
      "INFO:tensorflow:loss = 8497.654, step = 3201 (0.288 sec)\n",
      "INFO:tensorflow:global_step/sec: 312.519\n",
      "INFO:tensorflow:loss = 8451.574, step = 3301 (0.323 sec)\n",
      "INFO:tensorflow:global_step/sec: 358.444\n",
      "INFO:tensorflow:loss = 8407.881, step = 3401 (0.278 sec)\n",
      "INFO:tensorflow:global_step/sec: 227.288\n",
      "INFO:tensorflow:loss = 8366.427, step = 3501 (0.441 sec)\n",
      "INFO:tensorflow:global_step/sec: 348.431\n",
      "INFO:tensorflow:loss = 8327.084, step = 3601 (0.290 sec)\n",
      "INFO:tensorflow:global_step/sec: 296.748\n",
      "INFO:tensorflow:loss = 8289.721, step = 3701 (0.335 sec)\n",
      "INFO:tensorflow:global_step/sec: 297.644\n",
      "INFO:tensorflow:loss = 8254.22, step = 3801 (0.336 sec)\n",
      "INFO:tensorflow:global_step/sec: 246.928\n",
      "INFO:tensorflow:loss = 8220.478, step = 3901 (0.404 sec)\n",
      "INFO:tensorflow:global_step/sec: 269.448\n",
      "INFO:tensorflow:loss = 8188.3867, step = 4001 (0.377 sec)\n",
      "INFO:tensorflow:global_step/sec: 275.792\n",
      "INFO:tensorflow:loss = 8157.852, step = 4101 (0.360 sec)\n",
      "INFO:tensorflow:global_step/sec: 328.965\n",
      "INFO:tensorflow:loss = 8128.7896, step = 4201 (0.302 sec)\n",
      "INFO:tensorflow:global_step/sec: 341.321\n",
      "INFO:tensorflow:loss = 8101.117, step = 4301 (0.291 sec)\n",
      "INFO:tensorflow:global_step/sec: 316.473\n",
      "INFO:tensorflow:loss = 8074.7534, step = 4401 (0.317 sec)\n",
      "INFO:tensorflow:global_step/sec: 285.73\n",
      "INFO:tensorflow:loss = 8049.631, step = 4501 (0.350 sec)\n",
      "INFO:tensorflow:global_step/sec: 307.715\n",
      "INFO:tensorflow:loss = 8025.68, step = 4601 (0.327 sec)\n",
      "INFO:tensorflow:global_step/sec: 330.049\n",
      "INFO:tensorflow:loss = 8002.84, step = 4701 (0.301 sec)\n",
      "INFO:tensorflow:global_step/sec: 290.715\n",
      "INFO:tensorflow:loss = 7981.045, step = 4801 (0.344 sec)\n",
      "INFO:tensorflow:global_step/sec: 273.242\n",
      "INFO:tensorflow:loss = 7960.251, step = 4901 (0.367 sec)\n",
      "INFO:tensorflow:Saving checkpoints for 5000 into train1\\model.ckpt.\n",
      "INFO:tensorflow:Loss for final step: 3530.2644.\n"
     ]
    },
    {
     "data": {
      "text/plain": [
       "<tensorflow_estimator.python.estimator.canned.linear.LinearRegressor at 0x1d45ef6bb70>"
      ]
     },
     "execution_count": 6,
     "metadata": {},
     "output_type": "execute_result"
    }
   ],
   "source": [
    "estimator.train(input_fn = train_input,steps=5000) "
   ]
  },
  {
   "cell_type": "code",
   "execution_count": 7,
   "metadata": {},
   "outputs": [],
   "source": [
    "eval_input = tf.estimator.inputs.numpy_input_fn(    \n",
    "       x={\"x\": X_test},    \n",
    "       y=y_test, \n",
    "       shuffle=False,    \n",
    "       batch_size=128,    \n",
    "       num_epochs=1)"
   ]
  },
  {
   "cell_type": "code",
   "execution_count": 8,
   "metadata": {},
   "outputs": [
    {
     "name": "stdout",
     "output_type": "stream",
     "text": [
      "INFO:tensorflow:Calling model_fn.\n",
      "INFO:tensorflow:Done calling model_fn.\n",
      "INFO:tensorflow:Starting evaluation at 2019-08-14T16:53:53Z\n",
      "INFO:tensorflow:Graph was finalized.\n",
      "WARNING:tensorflow:From C:\\ProgramData\\Anaconda3\\lib\\site-packages\\tensorflow\\python\\training\\saver.py:1266: checkpoint_exists (from tensorflow.python.training.checkpoint_management) is deprecated and will be removed in a future version.\n",
      "Instructions for updating:\n",
      "Use standard file APIs to check for files with this prefix.\n",
      "INFO:tensorflow:Restoring parameters from train1\\model.ckpt-5000\n",
      "INFO:tensorflow:Running local_init_op.\n",
      "INFO:tensorflow:Done running local_init_op.\n",
      "INFO:tensorflow:Finished evaluation at 2019-08-14-16:53:54\n",
      "INFO:tensorflow:Saving dict for global step 5000: average_loss = 19.181955, global_step = 5000, label/mean = 22.08, loss = 1918.1956, prediction/mean = 22.97686\n",
      "INFO:tensorflow:Saving 'checkpoint_path' summary for global step 5000: train1\\model.ckpt-5000\n"
     ]
    },
    {
     "data": {
      "text/plain": [
       "{'average_loss': 19.181955,\n",
       " 'label/mean': 22.08,\n",
       " 'loss': 1918.1956,\n",
       " 'prediction/mean': 22.97686,\n",
       " 'global_step': 5000}"
      ]
     },
     "execution_count": 8,
     "metadata": {},
     "output_type": "execute_result"
    }
   ],
   "source": [
    "estimator.evaluate(eval_input,steps=None)"
   ]
  },
  {
   "cell_type": "code",
   "execution_count": 9,
   "metadata": {},
   "outputs": [],
   "source": [
    "test_input = tf.estimator.inputs.numpy_input_fn(    \n",
    "        x={\"x\": x_predict},    \n",
    "        batch_size=128,    \n",
    "        num_epochs=1,   \n",
    "        shuffle=False)"
   ]
  },
  {
   "cell_type": "code",
   "execution_count": 10,
   "metadata": {},
   "outputs": [
    {
     "name": "stdout",
     "output_type": "stream",
     "text": [
      "INFO:tensorflow:Calling model_fn.\n",
      "INFO:tensorflow:Done calling model_fn.\n",
      "INFO:tensorflow:Graph was finalized.\n",
      "INFO:tensorflow:Restoring parameters from train1\\model.ckpt-5000\n",
      "INFO:tensorflow:Running local_init_op.\n",
      "INFO:tensorflow:Done running local_init_op.\n",
      "Predictions: [array([35.23109], dtype=float32), array([19.068836], dtype=float32), array([24.466225], dtype=float32), array([33.78768], dtype=float32), array([14.434954], dtype=float32), array([20.162895], dtype=float32)]\n"
     ]
    }
   ],
   "source": [
    "y = estimator.predict(test_input) \t\t\t\n",
    "predictions = list(p[\"predictions\"] for p in itertools.islice(y, 6))\n",
    "print(\"Predictions: {}\".format(str(predictions)))"
   ]
  },
  {
   "cell_type": "code",
   "execution_count": null,
   "metadata": {},
   "outputs": [],
   "source": []
  }
 ],
 "metadata": {
  "kernelspec": {
   "display_name": "Python 3",
   "language": "python",
   "name": "python3"
  },
  "language_info": {
   "codemirror_mode": {
    "name": "ipython",
    "version": 3
   },
   "file_extension": ".py",
   "mimetype": "text/x-python",
   "name": "python",
   "nbconvert_exporter": "python",
   "pygments_lexer": "ipython3",
   "version": "3.7.3"
  }
 },
 "nbformat": 4,
 "nbformat_minor": 2
}
